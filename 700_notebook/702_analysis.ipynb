{
 "cells": [
  {
   "cell_type": "code",
   "execution_count": 1,
   "metadata": {},
   "outputs": [],
   "source": [
    "# パッケージのインポート\n",
    "import pandas as pd\n",
    "import pandas_profiling as pdp\n",
    "import seaborn as sns\n",
    "import numpy as np\n",
    "import matplotlib.pyplot as plt\n",
    "\n",
    "from sklearn.preprocessing import OneHotEncoder"
   ]
  },
  {
   "cell_type": "code",
   "execution_count": 2,
   "metadata": {},
   "outputs": [],
   "source": [
    "# 設定\n",
    "pd.set_option('display.max_columns', 100)\n",
    "pd.set_option('display.max_rows', 100)\n",
    "pd.options.display.float_format = '{:.2f}'.format"
   ]
  },
  {
   "cell_type": "code",
   "execution_count": 3,
   "metadata": {},
   "outputs": [],
   "source": [
    "# dataの読み込み\n",
    "df_train = pd.read_csv('../200_input/train.csv')\n",
    "df_food = pd.read_csv('../200_input/food_uriage.csv')\n",
    "df_uriage = pd.read_csv('../200_input/uriage.csv')\n",
    "df_tenki = pd.read_csv('../200_input/tenki.csv')\n",
    "df_kyaku = pd.read_csv('../200_input/kyaku.csv')\n",
    "df_test = pd.read_csv('../200_input/test.csv')"
   ]
  },
  {
   "cell_type": "code",
   "execution_count": 4,
   "metadata": {},
   "outputs": [],
   "source": [
    "df_train['nichi'] = pd.to_datetime(df_train['nichi'], format='%Y%m%d')\n",
    "df_uriage['nichi'] = pd.to_datetime(df_uriage['nichi'], format='%Y%m%d')\n",
    "df_food['nichi'] = pd.to_datetime(df_food['nichi'], format='%Y%m%d')\n",
    "df_kyaku['nichi'] = pd.to_datetime(df_kyaku['nichi'], format='%Y%m%d')\n",
    "df_tenki['nichi'] = pd.to_datetime(df_tenki['nichi'], format='%Y%m%d')\n",
    "df_test['nichi'] = pd.to_datetime(df_test['nichi'], format='%Y%m%d')"
   ]
  },
  {
   "cell_type": "code",
   "execution_count": 5,
   "metadata": {},
   "outputs": [],
   "source": [
    "# 店ごとに分割\n",
    "df_train_x = df_train[df_train['group_mise'] == 'X'].reset_index()\n",
    "df_train_y = df_train[df_train['group_mise'] == 'Y'].reset_index()\n",
    "df_train_z = df_train[df_train['group_mise'] == 'Z'].reset_index()\n",
    "df_test_x = df_test[df_test['group_mise'] == 'X'].reset_index()\n",
    "df_test_y = df_test[df_test['group_mise'] == 'Y'].reset_index()\n",
    "df_test_z = df_test[df_test['group_mise'] == 'Z'].reset_index()\n",
    "df_uriage_x = df_uriage[df_uriage['group_mise'] == 'X'].reset_index()\n",
    "df_uriage_y = df_uriage[df_uriage['group_mise'] == 'Y'].reset_index()\n",
    "df_uriage_z = df_uriage[df_uriage['group_mise'] == 'Z'].reset_index()"
   ]
  },
  {
   "cell_type": "code",
   "execution_count": 6,
   "metadata": {
    "scrolled": true
   },
   "outputs": [],
   "source": [
    "# 商品ごとに分割\n",
    "df_train_xa = df_train_x[df_train_x['group_item'] == 'A'].reset_index()\n",
    "df_train_xb = df_train_x[df_train_x['group_item'] == 'B'].reset_index()\n",
    "df_train_xc = df_train_x[df_train_x['group_item'] == 'C'].reset_index()\n",
    "df_train_xd = df_train_x[df_train_x['group_item'] == 'D'].reset_index()\n",
    "df_train_xe = df_train_x[df_train_x['group_item'] == 'E'].reset_index()"
   ]
  },
  {
   "cell_type": "code",
   "execution_count": 7,
   "metadata": {},
   "outputs": [
    {
     "data": {
      "text/plain": [
       "(542, 6)"
      ]
     },
     "execution_count": 7,
     "metadata": {},
     "output_type": "execute_result"
    }
   ],
   "source": [
    "df_train_xa.shape"
   ]
  },
  {
   "cell_type": "code",
   "execution_count": 8,
   "metadata": {},
   "outputs": [],
   "source": [
    "# 天気データをtrainデータに分割\n",
    "df_tenki_train = df_tenki[df_tenki['nichi'] <= '2020-05-29'].reset_index()\n",
    "df_tenki_tenki = df_tenki[df_tenki['nichi'] > '2020-05-29'].reset_index()"
   ]
  },
  {
   "cell_type": "code",
   "execution_count": 9,
   "metadata": {},
   "outputs": [],
   "source": [
    "df_ft = pd.merge(df_tenki_train, df_train_xa,  on='nichi', how='inner')\n",
    "df_ft = df_ft[['nichi', 'kion_ave', 'kousuiryou', 'tenki_id2_hiru', 'target']]\n",
    "df_ft = pd.merge(df_ft, df_uriage_x,  on='nichi', how='inner')\n",
    "df_ft = df_ft[['kion_ave', 'kousuiryou', 'tenki_id2_hiru', 'uriage_param', 'target']]"
   ]
  },
  {
   "cell_type": "code",
   "execution_count": 10,
   "metadata": {},
   "outputs": [
    {
     "data": {
      "text/plain": [
       "kion_ave            int64\n",
       "kousuiryou          int64\n",
       "tenki_id2_hiru      int64\n",
       "uriage_param      float64\n",
       "target              int64\n",
       "dtype: object"
      ]
     },
     "execution_count": 10,
     "metadata": {},
     "output_type": "execute_result"
    }
   ],
   "source": [
    "df_ft.dtypes"
   ]
  },
  {
   "cell_type": "code",
   "execution_count": 11,
   "metadata": {},
   "outputs": [],
   "source": [
    "df_ft['tenki_id2_hiru'] = df_ft['tenki_id2_hiru'].astype('str')"
   ]
  },
  {
   "cell_type": "code",
   "execution_count": 12,
   "metadata": {},
   "outputs": [],
   "source": [
    "def one_hot_encoding(df_category):\n",
    "    '''\n",
    "    OneHotEncoderを使った場合\n",
    "    多重共線性に注意する必要あり\n",
    "    カテゴリーごとに列の削減を行うべき\n",
    "    '''\n",
    "\n",
    "    # 定性データと定量データに分割\n",
    "    category_data = df_category.select_dtypes(include='object')\n",
    "    numeric_data = df_category.select_dtypes(exclude='object')\n",
    "\n",
    "    # OneHotEncoderのインスタンス作成\n",
    "    ohe = OneHotEncoder(handle_unknown='ignore')\n",
    "    # ダミー変数化したいデータをfit\n",
    "    ohe.fit(category_data)\n",
    "    # ダミー変数に変換して、Numpy配列の形へ\n",
    "    dummy_data = ohe.transform(category_data).toarray()\n",
    "    # ダミー変数の列名を作成\n",
    "    dummies_name = ohe.get_feature_names(category_data.columns)\n",
    "    # データフレームに変換\n",
    "    df_dummies = pd.DataFrame(dummy_data, columns=dummies_name)\n",
    "    # 元データに結合\n",
    "    df_merge = pd.concat([df_dummies, numeric_data], axis=1)\n",
    "\n",
    "    return df_merge"
   ]
  },
  {
   "cell_type": "code",
   "execution_count": 13,
   "metadata": {},
   "outputs": [],
   "source": [
    "df_ft = one_hot_encoding(df_ft)"
   ]
  },
  {
   "cell_type": "code",
   "execution_count": 14,
   "metadata": {},
   "outputs": [
    {
     "data": {
      "text/html": [
       "<div>\n",
       "<style scoped>\n",
       "    .dataframe tbody tr th:only-of-type {\n",
       "        vertical-align: middle;\n",
       "    }\n",
       "\n",
       "    .dataframe tbody tr th {\n",
       "        vertical-align: top;\n",
       "    }\n",
       "\n",
       "    .dataframe thead th {\n",
       "        text-align: right;\n",
       "    }\n",
       "</style>\n",
       "<table border=\"1\" class=\"dataframe\">\n",
       "  <thead>\n",
       "    <tr style=\"text-align: right;\">\n",
       "      <th></th>\n",
       "      <th>tenki_id2_hiru_10</th>\n",
       "      <th>tenki_id2_hiru_20</th>\n",
       "      <th>tenki_id2_hiru_30</th>\n",
       "      <th>tenki_id2_hiru_40</th>\n",
       "      <th>kion_ave</th>\n",
       "      <th>kousuiryou</th>\n",
       "      <th>uriage_param</th>\n",
       "      <th>target</th>\n",
       "    </tr>\n",
       "  </thead>\n",
       "  <tbody>\n",
       "    <tr>\n",
       "      <th>0</th>\n",
       "      <td>1.00</td>\n",
       "      <td>0.00</td>\n",
       "      <td>0.00</td>\n",
       "      <td>0.00</td>\n",
       "      <td>13</td>\n",
       "      <td>62</td>\n",
       "      <td>0.59</td>\n",
       "      <td>183</td>\n",
       "    </tr>\n",
       "    <tr>\n",
       "      <th>1</th>\n",
       "      <td>1.00</td>\n",
       "      <td>0.00</td>\n",
       "      <td>0.00</td>\n",
       "      <td>0.00</td>\n",
       "      <td>10</td>\n",
       "      <td>0</td>\n",
       "      <td>0.59</td>\n",
       "      <td>177</td>\n",
       "    </tr>\n",
       "    <tr>\n",
       "      <th>2</th>\n",
       "      <td>0.00</td>\n",
       "      <td>0.00</td>\n",
       "      <td>1.00</td>\n",
       "      <td>0.00</td>\n",
       "      <td>16</td>\n",
       "      <td>38</td>\n",
       "      <td>0.62</td>\n",
       "      <td>203</td>\n",
       "    </tr>\n",
       "    <tr>\n",
       "      <th>3</th>\n",
       "      <td>1.00</td>\n",
       "      <td>0.00</td>\n",
       "      <td>0.00</td>\n",
       "      <td>0.00</td>\n",
       "      <td>9</td>\n",
       "      <td>1</td>\n",
       "      <td>0.59</td>\n",
       "      <td>186</td>\n",
       "    </tr>\n",
       "    <tr>\n",
       "      <th>4</th>\n",
       "      <td>0.00</td>\n",
       "      <td>1.00</td>\n",
       "      <td>0.00</td>\n",
       "      <td>0.00</td>\n",
       "      <td>6</td>\n",
       "      <td>0</td>\n",
       "      <td>0.61</td>\n",
       "      <td>166</td>\n",
       "    </tr>\n",
       "    <tr>\n",
       "      <th>...</th>\n",
       "      <td>...</td>\n",
       "      <td>...</td>\n",
       "      <td>...</td>\n",
       "      <td>...</td>\n",
       "      <td>...</td>\n",
       "      <td>...</td>\n",
       "      <td>...</td>\n",
       "      <td>...</td>\n",
       "    </tr>\n",
       "    <tr>\n",
       "      <th>537</th>\n",
       "      <td>1.00</td>\n",
       "      <td>0.00</td>\n",
       "      <td>0.00</td>\n",
       "      <td>0.00</td>\n",
       "      <td>21</td>\n",
       "      <td>0</td>\n",
       "      <td>0.23</td>\n",
       "      <td>50</td>\n",
       "    </tr>\n",
       "    <tr>\n",
       "      <th>538</th>\n",
       "      <td>0.00</td>\n",
       "      <td>1.00</td>\n",
       "      <td>0.00</td>\n",
       "      <td>0.00</td>\n",
       "      <td>21</td>\n",
       "      <td>0</td>\n",
       "      <td>0.21</td>\n",
       "      <td>42</td>\n",
       "    </tr>\n",
       "    <tr>\n",
       "      <th>539</th>\n",
       "      <td>1.00</td>\n",
       "      <td>0.00</td>\n",
       "      <td>0.00</td>\n",
       "      <td>0.00</td>\n",
       "      <td>22</td>\n",
       "      <td>0</td>\n",
       "      <td>0.20</td>\n",
       "      <td>50</td>\n",
       "    </tr>\n",
       "    <tr>\n",
       "      <th>540</th>\n",
       "      <td>1.00</td>\n",
       "      <td>0.00</td>\n",
       "      <td>0.00</td>\n",
       "      <td>0.00</td>\n",
       "      <td>21</td>\n",
       "      <td>0</td>\n",
       "      <td>0.19</td>\n",
       "      <td>40</td>\n",
       "    </tr>\n",
       "    <tr>\n",
       "      <th>541</th>\n",
       "      <td>1.00</td>\n",
       "      <td>0.00</td>\n",
       "      <td>0.00</td>\n",
       "      <td>0.00</td>\n",
       "      <td>21</td>\n",
       "      <td>0</td>\n",
       "      <td>0.24</td>\n",
       "      <td>60</td>\n",
       "    </tr>\n",
       "  </tbody>\n",
       "</table>\n",
       "<p>542 rows × 8 columns</p>\n",
       "</div>"
      ],
      "text/plain": [
       "     tenki_id2_hiru_10  tenki_id2_hiru_20  tenki_id2_hiru_30  \\\n",
       "0                 1.00               0.00               0.00   \n",
       "1                 1.00               0.00               0.00   \n",
       "2                 0.00               0.00               1.00   \n",
       "3                 1.00               0.00               0.00   \n",
       "4                 0.00               1.00               0.00   \n",
       "..                 ...                ...                ...   \n",
       "537               1.00               0.00               0.00   \n",
       "538               0.00               1.00               0.00   \n",
       "539               1.00               0.00               0.00   \n",
       "540               1.00               0.00               0.00   \n",
       "541               1.00               0.00               0.00   \n",
       "\n",
       "     tenki_id2_hiru_40  kion_ave  kousuiryou  uriage_param  target  \n",
       "0                 0.00        13          62          0.59     183  \n",
       "1                 0.00        10           0          0.59     177  \n",
       "2                 0.00        16          38          0.62     203  \n",
       "3                 0.00         9           1          0.59     186  \n",
       "4                 0.00         6           0          0.61     166  \n",
       "..                 ...       ...         ...           ...     ...  \n",
       "537               0.00        21           0          0.23      50  \n",
       "538               0.00        21           0          0.21      42  \n",
       "539               0.00        22           0          0.20      50  \n",
       "540               0.00        21           0          0.19      40  \n",
       "541               0.00        21           0          0.24      60  \n",
       "\n",
       "[542 rows x 8 columns]"
      ]
     },
     "execution_count": 14,
     "metadata": {},
     "output_type": "execute_result"
    }
   ],
   "source": [
    "df_ft"
   ]
  },
  {
   "cell_type": "code",
   "execution_count": 22,
   "metadata": {},
   "outputs": [],
   "source": [
    "def stds_norms_mms(df, scaler):\n",
    "    if scaler == 'mms':\n",
    "        mms = MinMaxScaler()\n",
    "        mms.fit_transform(df)\n",
    "    elif scaler == 'stds':\n",
    "        stds = StandardScaler()\n",
    "        stds.fit_transform(df)\n",
    "    elif scaler == 'norms':\n",
    "        norms = Normalizer()\n",
    "        norms.fit_transform(df)\n",
    "    return df"
   ]
  },
  {
   "cell_type": "code",
   "execution_count": null,
   "metadata": {},
   "outputs": [],
   "source": [
    "df_ft = "
   ]
  },
  {
   "cell_type": "code",
   "execution_count": null,
   "metadata": {},
   "outputs": [],
   "source": []
  }
 ],
 "metadata": {
  "kernelspec": {
   "display_name": "Python 3",
   "language": "python",
   "name": "python3"
  },
  "language_info": {
   "codemirror_mode": {
    "name": "ipython",
    "version": 3
   },
   "file_extension": ".py",
   "mimetype": "text/x-python",
   "name": "python",
   "nbconvert_exporter": "python",
   "pygments_lexer": "ipython3",
   "version": "3.7.3"
  }
 },
 "nbformat": 4,
 "nbformat_minor": 4
}
