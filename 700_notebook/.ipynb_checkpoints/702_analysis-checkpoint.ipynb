{
 "cells": [
  {
   "cell_type": "code",
   "execution_count": 13,
   "metadata": {},
   "outputs": [],
   "source": [
    "# パッケージのインポート\n",
    "import pandas as pd\n",
    "import pandas_profiling as pdp\n",
    "import seaborn as sns\n",
    "import numpy as np\n",
    "import matplotlib.pyplot as plt"
   ]
  },
  {
   "cell_type": "code",
   "execution_count": 14,
   "metadata": {},
   "outputs": [],
   "source": [
    "# dataの読み込み\n",
    "df_train = pd.read_csv('../200_input/train.csv')\n",
    "df_food = pd.read_csv('../200_input/food_uriage.csv')\n",
    "df_uriage = pd.read_csv('../200_input/uriage.csv')\n",
    "df_tenki = pd.read_csv('../200_input/tenki.csv')\n",
    "df_kyaku = pd.read_csv('../200_input/kyaku.csv')\n",
    "df_test = pd.read_csv('../200_input/test.csv')\n",
    "# df_tenki_k = pd.read_csv('../200_input/tenki_data_kanagawa.csv', header=3)"
   ]
  },
  {
   "cell_type": "code",
   "execution_count": 15,
   "metadata": {},
   "outputs": [],
   "source": [
    "df_train['nichi'] = pd.to_datetime(df_train['nichi'], format='%Y%m%d')\n",
    "df_uriage['nichi'] = pd.to_datetime(df_uriage['nichi'], format='%Y%m%d')\n",
    "df_food['nichi'] = pd.to_datetime(df_food['nichi'], format='%Y%m%d')\n",
    "df_kyaku['nichi'] = pd.to_datetime(df_kyaku['nichi'], format='%Y%m%d')\n",
    "df_tenki['nichi'] = pd.to_datetime(df_tenki['nichi'], format='%Y%m%d')\n",
    "df_test['nichi'] = pd.to_datetime(df_test['nichi'], format='%Y%m%d')"
   ]
  },
  {
   "cell_type": "code",
   "execution_count": 16,
   "metadata": {},
   "outputs": [],
   "source": [
    "df_train_x = df_train[df_train['group_mise'] == 'X']\n",
    "df_train_y = df_train[df_train['group_mise'] == 'Y']\n",
    "df_train_z = df_train[df_train['group_mise'] == 'Z']\n",
    "df_test_x = df_test[df_test['group_mise'] == 'X']\n",
    "df_test_y = df_test[df_test['group_mise'] == 'Y']\n",
    "df_test_z = df_test[df_test['group_mise'] == 'Z']"
   ]
  },
  {
   "cell_type": "code",
   "execution_count": 17,
   "metadata": {
    "scrolled": true
   },
   "outputs": [
    {
     "data": {
      "text/plain": [
       "Timestamp('2018-03-01 00:00:00')"
      ]
     },
     "metadata": {},
     "output_type": "display_data"
    },
    {
     "data": {
      "text/plain": [
       "Timestamp('2020-05-29 00:00:00')"
      ]
     },
     "metadata": {},
     "output_type": "display_data"
    },
    {
     "data": {
      "text/plain": [
       "Timestamp('2020-06-01 00:00:00')"
      ]
     },
     "metadata": {},
     "output_type": "display_data"
    },
    {
     "data": {
      "text/plain": [
       "Timestamp('2020-06-30 00:00:00')"
      ]
     },
     "metadata": {},
     "output_type": "display_data"
    }
   ],
   "source": [
    "display(df_train_x['nichi'].min())\n",
    "display(df_train_x['nichi'].max())\n",
    "display(df_test_x['nichi'].min())\n",
    "display(df_test_x['nichi'].max())"
   ]
  },
  {
   "cell_type": "code",
   "execution_count": 19,
   "metadata": {},
   "outputs": [],
   "source": [
    "# 天気データをtrainデータに分割\n",
    "df_tenki_train = df_tenki[df_tenki['nichi'] <= '2020-05-29']"
   ]
  },
  {
   "cell_type": "code",
   "execution_count": null,
   "metadata": {},
   "outputs": [],
   "source": []
  }
 ],
 "metadata": {
  "kernelspec": {
   "display_name": "Python 3",
   "language": "python",
   "name": "python3"
  },
  "language_info": {
   "codemirror_mode": {
    "name": "ipython",
    "version": 3
   },
   "file_extension": ".py",
   "mimetype": "text/x-python",
   "name": "python",
   "nbconvert_exporter": "python",
   "pygments_lexer": "ipython3",
   "version": "3.7.3"
  }
 },
 "nbformat": 4,
 "nbformat_minor": 4
}
